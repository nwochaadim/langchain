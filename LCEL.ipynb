{
 "cells": [
  {
   "cell_type": "code",
   "execution_count": 1,
   "id": "596083e9-b5dc-4c4b-9163-d17194972e91",
   "metadata": {},
   "outputs": [],
   "source": [
    "%load_ext dotenv\n",
    "%dotenv"
   ]
  },
  {
   "cell_type": "code",
   "execution_count": 2,
   "id": "879b453a-88fe-4c7e-8c69-007c7b0d0cc6",
   "metadata": {},
   "outputs": [],
   "source": [
    "from langchain_openai.chat_models import ChatOpenAI\n",
    "chat = ChatOpenAI(model_name = 'gpt-4.1-mini', seed = 365, temperature=0, max_tokens = 100)"
   ]
  },
  {
   "cell_type": "code",
   "execution_count": 3,
   "id": "78ed3c05-2411-490f-b4d0-1972591f5290",
   "metadata": {},
   "outputs": [],
   "source": [
    "from langchain_core.prompts import ChatPromptTemplate\n",
    "from langchain_core.output_parsers import CommaSeparatedListOutputParser"
   ]
  },
  {
   "cell_type": "code",
   "execution_count": 4,
   "id": "9a2998de-ce8a-43b1-8f8e-f29a97c82dd7",
   "metadata": {},
   "outputs": [],
   "source": [
    "list_instructions = CommaSeparatedListOutputParser().get_format_instructions()"
   ]
  },
  {
   "cell_type": "code",
   "execution_count": 5,
   "id": "beea76a4-9878-450e-b6d1-3fd313f161e3",
   "metadata": {},
   "outputs": [
    {
     "name": "stdout",
     "output_type": "stream",
     "text": [
      "Your response should be a list of comma separated values, eg: `foo, bar, baz` or `foo,bar,baz`\n"
     ]
    }
   ],
   "source": [
    "print(list_instructions)"
   ]
  },
  {
   "cell_type": "code",
   "execution_count": 6,
   "id": "fc0c7cfe-6df0-4e02-83f1-f983488da5fb",
   "metadata": {},
   "outputs": [],
   "source": [
    "chat_template = ChatPromptTemplate.from_messages([\n",
    "    ('human', \"I've recently adopted a {pet}. Could you suggest three {pet} names? \\n\" + list_instructions)\n",
    "])"
   ]
  },
  {
   "cell_type": "code",
   "execution_count": 7,
   "id": "d84e8e56-ce97-411d-8d92-dd84e0fa4270",
   "metadata": {},
   "outputs": [
    {
     "name": "stdout",
     "output_type": "stream",
     "text": [
      "I've recently adopted a {pet}. Could you suggest three {pet} names? \n",
      "Your response should be a list of comma separated values, eg: `foo, bar, baz` or `foo,bar,baz`\n"
     ]
    }
   ],
   "source": [
    "print(chat_template.messages[0].prompt.template)"
   ]
  },
  {
   "cell_type": "code",
   "execution_count": 8,
   "id": "a9582af1-f4f1-4ab7-ad4b-77c08f71794f",
   "metadata": {},
   "outputs": [],
   "source": [
    "chain = chat_template | chat | CommaSeparatedListOutputParser()"
   ]
  },
  {
   "cell_type": "code",
   "execution_count": 9,
   "id": "7217c731-a523-45bd-bf2e-9726071d0034",
   "metadata": {},
   "outputs": [],
   "source": [
    "result = chain.invoke({'pet': 'dog'})"
   ]
  },
  {
   "cell_type": "code",
   "execution_count": 10,
   "id": "6bf16e5a-b4dc-4a31-b92f-a4d25b66f911",
   "metadata": {},
   "outputs": [
    {
     "name": "stdout",
     "output_type": "stream",
     "text": [
      "['Buddy', 'Luna', 'Max']\n"
     ]
    }
   ],
   "source": [
    "print(result)"
   ]
  },
  {
   "cell_type": "code",
   "execution_count": null,
   "id": "54bf1109-c9d4-45b0-8c80-cbb5ca4d9f68",
   "metadata": {},
   "outputs": [],
   "source": []
  },
  {
   "cell_type": "markdown",
   "id": "821c2b24-6afd-4fec-a3e3-ec6c6651ad97",
   "metadata": {},
   "source": [
    "## Batching\n",
    "\n",
    "Faster, run in parallel."
   ]
  },
  {
   "cell_type": "code",
   "execution_count": 11,
   "id": "81c68255-2c4e-45c4-b325-417c1ad7ae01",
   "metadata": {},
   "outputs": [
    {
     "data": {
      "text/plain": [
       "[['Bubbles', 'Nemo', 'Finley'],\n",
       " ['Whiskers', 'Luna', 'Milo'],\n",
       " ['Shere Khan', 'Rajah', 'Tigris']]"
      ]
     },
     "execution_count": 11,
     "metadata": {},
     "output_type": "execute_result"
    }
   ],
   "source": [
    "chain.batch([\n",
    "    {'pet': 'fish'},\n",
    "    {'pet': 'cat'},\n",
    "    {'pet': 'tiger'}\n",
    "])"
   ]
  },
  {
   "cell_type": "code",
   "execution_count": null,
   "id": "48431c79-6d72-4686-acdd-d0c7b328c216",
   "metadata": {},
   "outputs": [],
   "source": []
  },
  {
   "cell_type": "markdown",
   "id": "47d61969-a643-48db-817c-d6a62902fc1f",
   "metadata": {},
   "source": [
    "## Streaming\n",
    "\n",
    "This is more memory efficient. They are single use. Once you read them to the end, they cannot be reset to start reading again from the beginning."
   ]
  },
  {
   "cell_type": "code",
   "execution_count": 12,
   "id": "4b12272a-a0d8-461a-b4a4-46fe640ad69b",
   "metadata": {},
   "outputs": [],
   "source": [
    "response = chain.stream({'pet': 'leopard'})"
   ]
  },
  {
   "cell_type": "code",
   "execution_count": 14,
   "id": "d42c5d37-a462-44fc-8f84-913116ca2373",
   "metadata": {},
   "outputs": [
    {
     "name": "stdout",
     "output_type": "stream",
     "text": [
      "['Luna']['Blaze']"
     ]
    }
   ],
   "source": [
    "for token in response:\n",
    "    print(token, end = '')"
   ]
  },
  {
   "cell_type": "code",
   "execution_count": 21,
   "id": "d8585205-a8b5-40ae-8ce3-f7e8bc221a54",
   "metadata": {},
   "outputs": [],
   "source": [
    "response = chat.stream('Teach me a bit about the country Kazakhstan')"
   ]
  },
  {
   "cell_type": "code",
   "execution_count": 22,
   "id": "3a443885-6456-459d-b59c-23b7d879787a",
   "metadata": {},
   "outputs": [
    {
     "name": "stdout",
     "output_type": "stream",
     "text": [
      "Certainly! Here’s an overview of Kazakhstan:\n",
      "\n",
      "**Location and Geography:**  \n",
      "Kazakhstan is a large country in Central Asia and is the world's ninth-largest country by land area. It is landlocked, bordered by Russia to the north, China to the east, Kyrgyzstan, Uzbekistan, and Turkmenistan to the south, and the Caspian Sea to the west. The terrain includes vast steppes, deserts, mountains, and lakes.\n",
      "\n",
      "**Capital and Major Cities:**  \n",
      "The capital city"
     ]
    }
   ],
   "source": [
    "for token in response:\n",
    "    print(token.content, end = '')"
   ]
  },
  {
   "cell_type": "code",
   "execution_count": null,
   "id": "a62ab7b9-9c9a-409c-8c41-ea51a83ca36e",
   "metadata": {},
   "outputs": [],
   "source": []
  },
  {
   "cell_type": "markdown",
   "id": "109be6c4-853c-4878-820e-b40aecec625f",
   "metadata": {},
   "source": [
    "## Piping Chains and the RunnablePassthrough Class"
   ]
  },
  {
   "cell_type": "code",
   "execution_count": 37,
   "id": "41fe6508-8b1c-4808-937b-88f7dd1ab857",
   "metadata": {},
   "outputs": [],
   "source": [
    "from langchain_core.output_parsers import StrOutputParser\n",
    "from langchain_core.runnables.passthrough import RunnablePassthrough"
   ]
  },
  {
   "cell_type": "code",
   "execution_count": 25,
   "id": "683af6d8-2171-41d7-b9a9-163be6f4c7fd",
   "metadata": {},
   "outputs": [],
   "source": [
    "chat_template_tools = ChatPromptTemplate.from_template('''\n",
    "What are the five most important tools a {job title} needs?\n",
    "Answer only by listing the tools.\n",
    "''')\n",
    "\n",
    "chat_template_strategy = ChatPromptTemplate.from_template('''\n",
    "Considering the tools provided, develop a strategy for effectively learning and mastering them:\n",
    "{tools}\n",
    "''')"
   ]
  },
  {
   "cell_type": "code",
   "execution_count": 32,
   "id": "da6bd348-97d3-48fd-8b64-e355ab922b28",
   "metadata": {},
   "outputs": [],
   "source": [
    "string_parser = StrOutputParser()"
   ]
  },
  {
   "cell_type": "code",
   "execution_count": 33,
   "id": "7b1ed60b-c4c6-4c3b-9a8a-e35ae3533de7",
   "metadata": {},
   "outputs": [],
   "source": [
    "chain_tools = chat_template_tools | chat | string_parser\n",
    "chain_strategy = chat_template_strategy | chat | string_parser"
   ]
  },
  {
   "cell_type": "code",
   "execution_count": 35,
   "id": "c0926927-8cdb-4a6a-9307-e25abcc4b5a1",
   "metadata": {},
   "outputs": [
    {
     "name": "stdout",
     "output_type": "stream",
     "text": [
      "1. Python  \n",
      "2. R  \n",
      "3. SQL  \n",
      "4. Jupyter Notebook  \n",
      "5. Tableau\n"
     ]
    }
   ],
   "source": [
    "print(chain_tools.invoke({'job title': 'Data scientist'}))"
   ]
  },
  {
   "cell_type": "code",
   "execution_count": 38,
   "id": "e20aeec1-ee8b-4e68-9efd-a6f16818d339",
   "metadata": {},
   "outputs": [],
   "source": [
    "chain = chain_tools | { 'tools': RunnablePassthrough() } | chain_strategy"
   ]
  },
  {
   "cell_type": "code",
   "execution_count": 39,
   "id": "8da44ec8-157f-47ab-9271-ec97013f7892",
   "metadata": {},
   "outputs": [
    {
     "name": "stdout",
     "output_type": "stream",
     "text": [
      "Certainly! Here's a structured strategy to effectively learn and master the tools you listed: Python, R, SQL, Jupyter Notebook, and Tableau. This plan balances foundational knowledge, practical application, and integration of tools.\n",
      "\n",
      "---\n",
      "\n",
      "### 1. **Python**\n",
      "\n",
      "**Why:** Versatile programming language widely used in data science, automation, web development, and more.\n",
      "\n",
      "**Strategy:**\n",
      "\n",
      "- **Foundations:**\n",
      "  - Learn syntax, data types, control structures (loops, conditionals).\n",
      "  -\n"
     ]
    }
   ],
   "source": [
    "print(chain.invoke({'job title': 'Data scientist'}))"
   ]
  },
  {
   "cell_type": "code",
   "execution_count": 46,
   "id": "d83f6f56-e40c-45d3-a965-d793f9420c64",
   "metadata": {},
   "outputs": [
    {
     "name": "stdout",
     "output_type": "stream",
     "text": [
      "     +-------------+       \n",
      "     | PromptInput |       \n",
      "     +-------------+       \n",
      "            *              \n",
      "            *              \n",
      "            *              \n",
      "  +--------------------+   \n",
      "  | ChatPromptTemplate |   \n",
      "  +--------------------+   \n",
      "            *              \n",
      "            *              \n",
      "            *              \n",
      "      +------------+       \n",
      "      | ChatOpenAI |       \n",
      "      +------------+       \n",
      "            *              \n",
      "            *              \n",
      "            *              \n",
      "   +-----------------+     \n",
      "   | StrOutputParser |     \n",
      "   +-----------------+     \n",
      "            *              \n",
      "            *              \n",
      "            *              \n",
      "+-----------------------+  \n",
      "| StrOutputParserOutput |  \n",
      "+-----------------------+  \n",
      "            *              \n",
      "            *              \n",
      "            *              \n",
      "     +-------------+       \n",
      "     | Passthrough |       \n",
      "     +-------------+       \n",
      "            *              \n",
      "            *              \n",
      "            *              \n",
      "  +--------------------+   \n",
      "  | ChatPromptTemplate |   \n",
      "  +--------------------+   \n",
      "            *              \n",
      "            *              \n",
      "            *              \n",
      "      +------------+       \n",
      "      | ChatOpenAI |       \n",
      "      +------------+       \n",
      "            *              \n",
      "            *              \n",
      "            *              \n",
      "   +-----------------+     \n",
      "   | StrOutputParser |     \n",
      "   +-----------------+     \n",
      "            *              \n",
      "            *              \n",
      "            *              \n",
      "+-----------------------+  \n",
      "| StrOutputParserOutput |  \n",
      "+-----------------------+  \n"
     ]
    }
   ],
   "source": [
    "chain.get_graph().print_ascii()"
   ]
  },
  {
   "cell_type": "code",
   "execution_count": null,
   "id": "f72f037a-c021-400c-940f-d7b68bfce40a",
   "metadata": {},
   "outputs": [],
   "source": []
  },
  {
   "cell_type": "markdown",
   "id": "237520cf-f7f0-48f2-9d58-d5d833bc2554",
   "metadata": {},
   "source": [
    "## Runnable Parallel\n",
    "\n",
    "This is faster than sequential processing. More than one runnable cn be involved at a time if having the same input"
   ]
  },
  {
   "cell_type": "code",
   "execution_count": 47,
   "id": "9123f647-e289-4b34-b737-17205a3c4680",
   "metadata": {},
   "outputs": [],
   "source": [
    "from langchain_core.runnables import RunnableParallel"
   ]
  },
  {
   "cell_type": "code",
   "execution_count": 48,
   "id": "e3dc46af-3784-43e7-9ac5-f715558db2a0",
   "metadata": {},
   "outputs": [],
   "source": [
    "chat_template_books = ChatPromptTemplate.from_template(\n",
    "    '''\n",
    "    Suggest three of the best intermediate-level {programming language} books.\n",
    "    Answer only by listing the books.\n",
    "    '''\n",
    ")\n",
    "\n",
    "chat_template_projects = ChatPromptTemplate.from_template(\n",
    "    '''\n",
    "    Suggest three interesting {programming language} projects suitable for intermediate-level programmers.\n",
    "    Answer only by listing the projects.\n",
    "    '''\n",
    ")"
   ]
  },
  {
   "cell_type": "code",
   "execution_count": 50,
   "id": "e8ca7f2d-fc92-4d5d-9fc7-219894b35da9",
   "metadata": {},
   "outputs": [],
   "source": [
    "chain_books = chat_template_books | chat | string_parser\n",
    "chain_projects = chat_template_projects | chat | string_parser"
   ]
  },
  {
   "cell_type": "code",
   "execution_count": 51,
   "id": "6eac073d-9256-4da4-bc27-dd07d79d4149",
   "metadata": {},
   "outputs": [],
   "source": [
    "chain_parallel = RunnableParallel({'books': chain_books, 'projects': chain_projects})"
   ]
  },
  {
   "cell_type": "code",
   "execution_count": 52,
   "id": "b20852ee-1c37-4497-9fb5-953f9f6a7220",
   "metadata": {},
   "outputs": [
    {
     "data": {
      "text/plain": [
       "{'books': '1. \"Fluent Python\" by Luciano Ramalho  \\n2. \"Effective Python: 90 Specific Ways to Write Better Python\" by Brett Slatkin  \\n3. \"Python Cookbook\" by David Beazley and Brian K. Jones',\n",
       " 'projects': '1. Personal Expense Tracker with Data Visualization  \\n2. Web Scraper for News Aggregation  \\n3. Chatbot Using Natural Language Processing (NLP)'}"
      ]
     },
     "execution_count": 52,
     "metadata": {},
     "output_type": "execute_result"
    }
   ],
   "source": [
    "chain_parallel.invoke({'programming language': 'Python'})"
   ]
  },
  {
   "cell_type": "code",
   "execution_count": 54,
   "id": "8901766a-6d2c-4c29-9208-72ff024d8138",
   "metadata": {},
   "outputs": [
    {
     "name": "stdout",
     "output_type": "stream",
     "text": [
      "            +-------------------------------+              \n",
      "            | Parallel<books,projects>Input |              \n",
      "            +-------------------------------+              \n",
      "                   ***               ***                   \n",
      "                ***                     ***                \n",
      "              **                           **              \n",
      "+--------------------+              +--------------------+ \n",
      "| ChatPromptTemplate |              | ChatPromptTemplate | \n",
      "+--------------------+              +--------------------+ \n",
      "           *                                   *           \n",
      "           *                                   *           \n",
      "           *                                   *           \n",
      "    +------------+                      +------------+     \n",
      "    | ChatOpenAI |                      | ChatOpenAI |     \n",
      "    +------------+                      +------------+     \n",
      "           *                                   *           \n",
      "           *                                   *           \n",
      "           *                                   *           \n",
      "  +-----------------+                 +-----------------+  \n",
      "  | StrOutputParser |                 | StrOutputParser |  \n",
      "  +-----------------+                 +-----------------+  \n",
      "                   ***               ***                   \n",
      "                      ***         ***                      \n",
      "                         **     **                         \n",
      "            +--------------------------------+             \n",
      "            | Parallel<books,projects>Output |             \n",
      "            +--------------------------------+             \n"
     ]
    }
   ],
   "source": [
    "chain_parallel.get_graph().print_ascii()"
   ]
  },
  {
   "cell_type": "code",
   "execution_count": null,
   "id": "87cc7a12-dc5d-4ec5-a3b0-41ef1a6aff52",
   "metadata": {},
   "outputs": [],
   "source": []
  }
 ],
 "metadata": {
  "kernelspec": {
   "display_name": "langchain_env",
   "language": "python",
   "name": "langchain_env"
  },
  "language_info": {
   "codemirror_mode": {
    "name": "ipython",
    "version": 3
   },
   "file_extension": ".py",
   "mimetype": "text/x-python",
   "name": "python",
   "nbconvert_exporter": "python",
   "pygments_lexer": "ipython3",
   "version": "3.11.13"
  }
 },
 "nbformat": 4,
 "nbformat_minor": 5
}
