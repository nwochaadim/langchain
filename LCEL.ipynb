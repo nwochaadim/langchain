{
 "cells": [
  {
   "cell_type": "code",
   "execution_count": 1,
   "id": "596083e9-b5dc-4c4b-9163-d17194972e91",
   "metadata": {},
   "outputs": [],
   "source": [
    "%load_ext dotenv\n",
    "%dotenv"
   ]
  },
  {
   "cell_type": "code",
   "execution_count": 2,
   "id": "879b453a-88fe-4c7e-8c69-007c7b0d0cc6",
   "metadata": {},
   "outputs": [],
   "source": [
    "from langchain_openai.chat_models import ChatOpenAI\n",
    "chat = ChatOpenAI(model_name = 'gpt-4.1-mini', seed = 365, temperature=0, max_tokens = 100)"
   ]
  },
  {
   "cell_type": "code",
   "execution_count": 3,
   "id": "78ed3c05-2411-490f-b4d0-1972591f5290",
   "metadata": {},
   "outputs": [],
   "source": [
    "from langchain_core.prompts import ChatPromptTemplate\n",
    "from langchain_core.output_parsers import CommaSeparatedListOutputParser"
   ]
  },
  {
   "cell_type": "code",
   "execution_count": 4,
   "id": "9a2998de-ce8a-43b1-8f8e-f29a97c82dd7",
   "metadata": {},
   "outputs": [],
   "source": [
    "list_instructions = CommaSeparatedListOutputParser().get_format_instructions()"
   ]
  },
  {
   "cell_type": "code",
   "execution_count": 5,
   "id": "beea76a4-9878-450e-b6d1-3fd313f161e3",
   "metadata": {},
   "outputs": [
    {
     "name": "stdout",
     "output_type": "stream",
     "text": [
      "Your response should be a list of comma separated values, eg: `foo, bar, baz` or `foo,bar,baz`\n"
     ]
    }
   ],
   "source": [
    "print(list_instructions)"
   ]
  },
  {
   "cell_type": "code",
   "execution_count": 6,
   "id": "fc0c7cfe-6df0-4e02-83f1-f983488da5fb",
   "metadata": {},
   "outputs": [],
   "source": [
    "chat_template = ChatPromptTemplate.from_messages([\n",
    "    ('human', \"I've recently adopted a {pet}. Could you suggest three {pet} names? \\n\" + list_instructions)\n",
    "])"
   ]
  },
  {
   "cell_type": "code",
   "execution_count": 7,
   "id": "d84e8e56-ce97-411d-8d92-dd84e0fa4270",
   "metadata": {},
   "outputs": [
    {
     "name": "stdout",
     "output_type": "stream",
     "text": [
      "I've recently adopted a {pet}. Could you suggest three {pet} names? \n",
      "Your response should be a list of comma separated values, eg: `foo, bar, baz` or `foo,bar,baz`\n"
     ]
    }
   ],
   "source": [
    "print(chat_template.messages[0].prompt.template)"
   ]
  },
  {
   "cell_type": "code",
   "execution_count": 8,
   "id": "a9582af1-f4f1-4ab7-ad4b-77c08f71794f",
   "metadata": {},
   "outputs": [],
   "source": [
    "chain = chat_template | chat | CommaSeparatedListOutputParser()"
   ]
  },
  {
   "cell_type": "code",
   "execution_count": 9,
   "id": "7217c731-a523-45bd-bf2e-9726071d0034",
   "metadata": {},
   "outputs": [],
   "source": [
    "result = chain.invoke({'pet': 'dog'})"
   ]
  },
  {
   "cell_type": "code",
   "execution_count": 10,
   "id": "6bf16e5a-b4dc-4a31-b92f-a4d25b66f911",
   "metadata": {},
   "outputs": [
    {
     "name": "stdout",
     "output_type": "stream",
     "text": [
      "['Buddy', 'Luna', 'Max']\n"
     ]
    }
   ],
   "source": [
    "print(result)"
   ]
  },
  {
   "cell_type": "code",
   "execution_count": null,
   "id": "54bf1109-c9d4-45b0-8c80-cbb5ca4d9f68",
   "metadata": {},
   "outputs": [],
   "source": []
  },
  {
   "cell_type": "markdown",
   "id": "821c2b24-6afd-4fec-a3e3-ec6c6651ad97",
   "metadata": {},
   "source": [
    "## Batching\n",
    "\n",
    "Faster, run in parallel."
   ]
  },
  {
   "cell_type": "code",
   "execution_count": 11,
   "id": "81c68255-2c4e-45c4-b325-417c1ad7ae01",
   "metadata": {},
   "outputs": [
    {
     "data": {
      "text/plain": [
       "[['Bubbles', 'Nemo', 'Finley'],\n",
       " ['Whiskers', 'Luna', 'Milo'],\n",
       " ['Shere Khan', 'Rajah', 'Tigris']]"
      ]
     },
     "execution_count": 11,
     "metadata": {},
     "output_type": "execute_result"
    }
   ],
   "source": [
    "chain.batch([\n",
    "    {'pet': 'fish'},\n",
    "    {'pet': 'cat'},\n",
    "    {'pet': 'tiger'}\n",
    "])"
   ]
  },
  {
   "cell_type": "code",
   "execution_count": null,
   "id": "48431c79-6d72-4686-acdd-d0c7b328c216",
   "metadata": {},
   "outputs": [],
   "source": []
  },
  {
   "cell_type": "markdown",
   "id": "47d61969-a643-48db-817c-d6a62902fc1f",
   "metadata": {},
   "source": [
    "## Streaming\n",
    "\n",
    "This is more memory efficient. They are single use. Once you read them to the end, they cannot be reset to start reading again from the beginning."
   ]
  },
  {
   "cell_type": "code",
   "execution_count": 12,
   "id": "4b12272a-a0d8-461a-b4a4-46fe640ad69b",
   "metadata": {},
   "outputs": [],
   "source": [
    "response = chain.stream({'pet': 'leopard'})"
   ]
  },
  {
   "cell_type": "code",
   "execution_count": 14,
   "id": "d42c5d37-a462-44fc-8f84-913116ca2373",
   "metadata": {},
   "outputs": [
    {
     "name": "stdout",
     "output_type": "stream",
     "text": [
      "['Luna']['Blaze']"
     ]
    }
   ],
   "source": [
    "for token in response:\n",
    "    print(token, end = '')"
   ]
  },
  {
   "cell_type": "code",
   "execution_count": 21,
   "id": "d8585205-a8b5-40ae-8ce3-f7e8bc221a54",
   "metadata": {},
   "outputs": [],
   "source": [
    "response = chat.stream('Teach me a bit about the country Kazakhstan')"
   ]
  },
  {
   "cell_type": "code",
   "execution_count": 22,
   "id": "3a443885-6456-459d-b59c-23b7d879787a",
   "metadata": {},
   "outputs": [
    {
     "name": "stdout",
     "output_type": "stream",
     "text": [
      "Certainly! Here’s an overview of Kazakhstan:\n",
      "\n",
      "**Location and Geography:**  \n",
      "Kazakhstan is a large country in Central Asia and is the world's ninth-largest country by land area. It is landlocked, bordered by Russia to the north, China to the east, Kyrgyzstan, Uzbekistan, and Turkmenistan to the south, and the Caspian Sea to the west. The terrain includes vast steppes, deserts, mountains, and lakes.\n",
      "\n",
      "**Capital and Major Cities:**  \n",
      "The capital city"
     ]
    }
   ],
   "source": [
    "for token in response:\n",
    "    print(token.content, end = '')"
   ]
  },
  {
   "cell_type": "code",
   "execution_count": null,
   "id": "a62ab7b9-9c9a-409c-8c41-ea51a83ca36e",
   "metadata": {},
   "outputs": [],
   "source": []
  }
 ],
 "metadata": {
  "kernelspec": {
   "display_name": "langchain_env",
   "language": "python",
   "name": "langchain_env"
  },
  "language_info": {
   "codemirror_mode": {
    "name": "ipython",
    "version": 3
   },
   "file_extension": ".py",
   "mimetype": "text/x-python",
   "name": "python",
   "nbconvert_exporter": "python",
   "pygments_lexer": "ipython3",
   "version": "3.11.13"
  }
 },
 "nbformat": 4,
 "nbformat_minor": 5
}
