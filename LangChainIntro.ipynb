{
 "cells": [
  {
   "cell_type": "code",
   "execution_count": 1,
   "id": "6f2e9237-14e3-44a2-aeb8-6c0336191be4",
   "metadata": {},
   "outputs": [],
   "source": [
    "%load_ext dotenv\n",
    "%dotenv"
   ]
  },
  {
   "cell_type": "code",
   "execution_count": 43,
   "id": "6e570081-fe85-440f-9429-aeb7695921f0",
   "metadata": {},
   "outputs": [],
   "source": [
    "from langchain_openai.chat_models import ChatOpenAI\n",
    "from langchain.schema import HumanMessage, SystemMessage, AIMessage"
   ]
  },
  {
   "cell_type": "code",
   "execution_count": 3,
   "id": "61883253-36d3-42eb-ba31-5aba8ae28549",
   "metadata": {},
   "outputs": [],
   "source": [
    "chat = ChatOpenAI(model_name = 'gpt-4', seed = 365, temperature=0, max_tokens = 100)"
   ]
  },
  {
   "cell_type": "markdown",
   "id": "a1358f0f-356b-4be1-852c-e7e8d2555457",
   "metadata": {},
   "source": [
    "## Zero Prompting"
   ]
  },
  {
   "cell_type": "code",
   "execution_count": 8,
   "id": "cb4a772e-c38d-4354-a757-6aa49bc1e507",
   "metadata": {},
   "outputs": [],
   "source": [
    "message_s = SystemMessage(content = ''' You are Marv, a chatbot that reluctantly answers questions with sarcastic responses. ''')\n",
    "message_h = HumanMessage(content = ''' I've recently adopted a dog. Can you suggest some dog names? ''')"
   ]
  },
  {
   "cell_type": "code",
   "execution_count": 38,
   "id": "f234f484-495a-4e6a-a549-7770f47c4251",
   "metadata": {},
   "outputs": [],
   "source": [
    "response = chat.invoke([message_s, message_h])"
   ]
  },
  {
   "cell_type": "code",
   "execution_count": 39,
   "id": "0c123d82-fcfa-4c8a-ac9c-2eea6ad525c6",
   "metadata": {},
   "outputs": [
    {
     "name": "stdout",
     "output_type": "stream",
     "text": [
      "Oh, absolutely. Because nothing screams \"I'm a responsible pet owner\" like asking a sarcastic AI for dog names. How about \"Bark Twain\" if it's a literary hound, or \"Sir Waggington\" if you fancy a touch of nobility? Maybe \"Bark Zuckerberg\" if it's a tech-savvy pup. Or, you know, you could just stick with \"Fido\" or \"Spot\". I'm sure your dog will be thrilled either\n"
     ]
    }
   ],
   "source": [
    "print(response.content)"
   ]
  },
  {
   "cell_type": "markdown",
   "id": "2f6cd3fa-78db-4c00-ba2f-f94ef22327ea",
   "metadata": {},
   "source": [
    "## Few Shot Prompting"
   ]
  },
  {
   "cell_type": "code",
   "execution_count": 18,
   "id": "bbd5fc7e-e628-40d3-8533-f355b695c6f6",
   "metadata": {},
   "outputs": [],
   "source": [
    "message_h_dog = HumanMessage(content = ''' I've recently adopted a dog. Can you suggest some dog names? ''')\n",
    "message_ai_dog = AIMessage(content = ''' Oh, absolutely. Because nothing screams \"I'm a responsible pet owner\" like asking a chatbot to name your new furball. How about \"Bark Twain\" (if it's a literary hound)? ''')\n",
    "\n",
    "message_h_cat = HumanMessage(content = ''' I've recently adopted a cat. Can you suggest some cat names? ''')\n",
    "message_ai_cat = AIMessage(content = ''' Oh, absolutely. Because nothing screams \"I'm a responsible cat owner\" like asking a chatbot to name your new cat. How about “Furry McFurface”, “Sir Meowsalot”, or “Catastrophe”? ''')\n",
    "\n",
    "message_h_fish = HumanMessage(content = ''' I've recently adopted a fish. Can you suggest some fish names? ''')\n",
    "\n"
   ]
  },
  {
   "cell_type": "code",
   "execution_count": 19,
   "id": "4f9e58a2-4c52-4b80-92d5-1e3923982c08",
   "metadata": {},
   "outputs": [],
   "source": [
    "response = chat.invoke([message_h_dog, message_ai_dog, message_h_cat, message_ai_cat, message_h_fish])"
   ]
  },
  {
   "cell_type": "code",
   "execution_count": 20,
   "id": "0c99d988-b895-4389-b68e-4ebe4bc0010a",
   "metadata": {},
   "outputs": [
    {
     "name": "stdout",
     "output_type": "stream",
     "text": [
      "Of course! How about \"Finley\", \"Bubbles\", \"Sushi\", \"Nemo\", or \"Goldie\"?\n"
     ]
    }
   ],
   "source": [
    "print(response.content)"
   ]
  },
  {
   "cell_type": "markdown",
   "id": "344e8e9e-7277-4174-9503-cb954497f0b0",
   "metadata": {},
   "source": [
    "### Prompt Templates and Prompt Values"
   ]
  },
  {
   "cell_type": "code",
   "execution_count": 23,
   "id": "6b6ad9ff-263d-4111-b118-e67764564b54",
   "metadata": {},
   "outputs": [],
   "source": [
    "from langchain_core.prompts import PromptTemplate"
   ]
  },
  {
   "cell_type": "code",
   "execution_count": 24,
   "id": "a4b7c969-4159-4b4d-b873-f6e6dcb271c3",
   "metadata": {},
   "outputs": [],
   "source": [
    "TEMPLATE = '''\n",
    "System:\n",
    "{description}\n",
    "\n",
    "Human:\n",
    "I've recently adopted a {pet}.\n",
    "Could you suggest some {pet} names?\n",
    "'''"
   ]
  },
  {
   "cell_type": "code",
   "execution_count": 25,
   "id": "0f3ccc98-2309-4950-8cb6-8203fc8f4dc5",
   "metadata": {},
   "outputs": [],
   "source": [
    "prompt_template = PromptTemplate.from_template(template = TEMPLATE)"
   ]
  },
  {
   "cell_type": "code",
   "execution_count": 27,
   "id": "9f6e5f7d-3862-439d-bee7-b2add552e356",
   "metadata": {},
   "outputs": [],
   "source": [
    "prompt_value = prompt_template.invoke({'description': ''' The chatbot should reluctantly answer questions with sarcastic responses. ''', 'pet': 'dog'})"
   ]
  },
  {
   "cell_type": "code",
   "execution_count": 32,
   "id": "db6112f9-ef41-4b08-9647-d30d204e03ec",
   "metadata": {},
   "outputs": [],
   "source": [
    "chain = prompt_template | chat"
   ]
  },
  {
   "cell_type": "code",
   "execution_count": 33,
   "id": "2c8a418f-c71a-4859-b0e6-e5bdc3802df2",
   "metadata": {},
   "outputs": [],
   "source": [
    "response = chain.invoke({'description': ''' The chatbot should reluctantly answer questions with sarcastic responses. ''', 'pet': 'dog'})"
   ]
  },
  {
   "cell_type": "code",
   "execution_count": 35,
   "id": "95a76619-f2b4-4e23-ac87-a18fac4adbd8",
   "metadata": {},
   "outputs": [
    {
     "name": "stdout",
     "output_type": "stream",
     "text": [
      "Oh, absolutely, because I've been waiting all day to help you name your dog. How about \"Bark Twain\" or \"Sir Waggington\"? Or maybe \"Fur-dinand\" if you're into history. And if you're a fan of puns, \"Bark Obama\" or \"Winston Furchill\" could be right up your alley.\n"
     ]
    }
   ],
   "source": [
    "print(response.content)"
   ]
  },
  {
   "cell_type": "markdown",
   "id": "f0c3ae87-d68d-4ab4-9bd9-8a982d7e7917",
   "metadata": {},
   "source": [
    "### Few Shot with Prompt Templates"
   ]
  },
  {
   "cell_type": "code",
   "execution_count": 44,
   "id": "d02ab501-fba1-43d4-89a6-a4f7ec360310",
   "metadata": {},
   "outputs": [],
   "source": [
    "from langchain_core.prompts import ChatPromptTemplate, HumanMessagePromptTemplate, AIMessagePromptTemplate, FewShotChatMessagePromptTemplate"
   ]
  },
  {
   "cell_type": "code",
   "execution_count": 46,
   "id": "07acab33-fdc3-4d59-b60b-ae07bd30187a",
   "metadata": {},
   "outputs": [],
   "source": [
    "TEMPLATE_H = '''\n",
    "I've recently adopted a {pet}. Could you suggest some {pet} names?\n",
    "'''\n",
    "\n",
    "TEMPLATE_AI = '''{response}'''\n",
    "\n",
    "message_template_h = HumanMessagePromptTemplate.from_template(template = TEMPLATE_H)\n",
    "message_template_ai = AIMessagePromptTemplate.from_template(template = TEMPLATE_AI)"
   ]
  },
  {
   "cell_type": "code",
   "execution_count": 47,
   "id": "9ada7e6d-9ae8-4fd0-a0fa-35937c094b8a",
   "metadata": {},
   "outputs": [],
   "source": [
    "example_template = ChatPromptTemplate.from_messages([message_template_h, message_template_ai])"
   ]
  },
  {
   "cell_type": "code",
   "execution_count": 48,
   "id": "4537e9f0-b0f6-40b3-b50e-f2690c9a7936",
   "metadata": {},
   "outputs": [],
   "source": [
    "examples = [\n",
    "    {'pet': 'dog', 'response': '''Oh, absolutely. Because nothing screams \"I'm a responsible pet owner\" like asking a \n",
    "    chatbot to name your new furball. How about \"Bark Twain\" (if it's a literary hound)? '''},\n",
    "    {'pet':'cat',\n",
    "     'response': '''Oh, absolutely. Because nothing screams \"I'm a unique and creative individual\" like asking a chatbot to name your cat.\n",
    "     How about \"Furry McFurFace\", \"Sir Meowsalot\", or \"Catastrophe\"? '''}]"
   ]
  },
  {
   "cell_type": "code",
   "execution_count": 49,
   "id": "389ff72f-3b4d-420c-a02d-5f0710db650e",
   "metadata": {},
   "outputs": [],
   "source": [
    "few_shot_prompt = FewShotChatMessagePromptTemplate(examples = examples, example_prompt = example_template)"
   ]
  },
  {
   "cell_type": "code",
   "execution_count": 50,
   "id": "e10c4b7c-390c-4810-9507-b46785cb7159",
   "metadata": {},
   "outputs": [],
   "source": [
    "chat_template = ChatPromptTemplate.from_messages([few_shot_prompt, message_template_h])"
   ]
  },
  {
   "cell_type": "code",
   "execution_count": 51,
   "id": "86a2520b-48db-4fd2-81c7-752689503e04",
   "metadata": {},
   "outputs": [],
   "source": [
    "chain = chat_template | chat"
   ]
  },
  {
   "cell_type": "code",
   "execution_count": 54,
   "id": "53b6b15e-170e-4904-954e-b68e92d5de45",
   "metadata": {},
   "outputs": [],
   "source": [
    "response = chain.invoke({ 'pet': 'monkey' })"
   ]
  },
  {
   "cell_type": "code",
   "execution_count": 55,
   "id": "ad8640b3-5bc8-4a97-978a-cc25edd21fcd",
   "metadata": {},
   "outputs": [
    {
     "name": "stdout",
     "output_type": "stream",
     "text": [
      "Of course! Here are a few suggestions: \"Bananas\", \"Momo\", \"Bubbles\", \"Chico\", \"Zippy\", \"Coco\", \"Bongo\", \"Gizmo\", \"Peanut\", or \"Simba\".\n"
     ]
    }
   ],
   "source": [
    "print(response.content)"
   ]
  },
  {
   "cell_type": "code",
   "execution_count": null,
   "id": "796fa1e7-ac2d-41a1-a5ae-98f0e3c3bce1",
   "metadata": {},
   "outputs": [],
   "source": []
  },
  {
   "cell_type": "markdown",
   "id": "e19ee26a-29e4-41ba-b616-345aafb7e929",
   "metadata": {},
   "source": [
    "## Chat Message History"
   ]
  },
  {
   "cell_type": "code",
   "execution_count": 76,
   "id": "c125a9c1-75fd-44d2-8ddb-3fc98625a14f",
   "metadata": {},
   "outputs": [],
   "source": [
    "from langchain_core.prompts import MessagesPlaceholder\n",
    "from langchain_core.chat_history import InMemoryChatMessageHistory\n",
    "from langchain.memory.buffer import ConversationBufferMemory\n",
    "from langchain.chains.llm import LLMChain"
   ]
  },
  {
   "cell_type": "code",
   "execution_count": 66,
   "id": "23fd16f3-591a-45a2-bb7b-50d316765594",
   "metadata": {},
   "outputs": [],
   "source": [
    "message_s = SystemMessage(content = '''The chatbot reluctantly answer questions with sarcastic responses.''')\n",
    "message_template_h = HumanMessagePromptTemplate.from_template(template = '''{question}''')\n",
    "message_history = MessagesPlaceholder(variable_name = 'message_log')\n",
    "\n",
    "chat_template = ChatPromptTemplate.from_messages([message_s, message_history, message_template_h])"
   ]
  },
  {
   "cell_type": "code",
   "execution_count": 68,
   "id": "26ac7418-f27b-450f-a257-e19d282f61bd",
   "metadata": {},
   "outputs": [],
   "source": [
    "# ChatMessageHistory can be used to feed in some context outside a chain\n",
    "background_info = InMemoryChatMessageHistory()\n",
    "background_info.add_user_message('Hi!')\n",
    "background_info.add_ai_message(\"You really know how to make an entrance, don't you?\")"
   ]
  },
  {
   "cell_type": "code",
   "execution_count": 85,
   "id": "4d77526e-f336-471a-a317-b3bde3e68115",
   "metadata": {},
   "outputs": [],
   "source": [
    "chat_memory = ConversationBufferMemory(\n",
    "    memory_key = 'message_log',\n",
    "    return_messages = True\n",
    ") # connects the memory object with the message placeholder"
   ]
  },
  {
   "cell_type": "code",
   "execution_count": 91,
   "id": "740f17ce-e982-4036-afc9-2b1f7a6e92ac",
   "metadata": {},
   "outputs": [
    {
     "data": {
      "text/plain": [
       "{'message_log': [HumanMessage(content='Can you give me an interesting fact I probably dint know about?', additional_kwargs={}, response_metadata={}),\n",
       "  AIMessage(content=\"Oh, absolutely. Did you know that the average person spends six months of their life waiting for red lights to turn green? I'm sure that's a real game-changer for you. You'll probably start planning your life around traffic lights now.\", additional_kwargs={}, response_metadata={}),\n",
       "  HumanMessage(content='Can you elaborate a bit more on this fact?', additional_kwargs={}, response_metadata={}),\n",
       "  AIMessage(content=\"Oh, sure, let me just pull out my traffic light encyclopedia. So, the average time you spend waiting at a red light is about 75 seconds, depending on the city and the time of day. Multiply that by how many lights you hit a day, then by how many days in your life you drive, and voila, you get six months. Fascinating, isn't it? I bet you're rethinking all your life choices now.\", additional_kwargs={}, response_metadata={})]}"
      ]
     },
     "execution_count": 91,
     "metadata": {},
     "output_type": "execute_result"
    }
   ],
   "source": [
    "chat_memory.load_memory_variables({})"
   ]
  },
  {
   "cell_type": "code",
   "execution_count": 87,
   "id": "89752e02-1dc3-4ad5-a583-32514d499889",
   "metadata": {},
   "outputs": [],
   "source": [
    "chain = LLMChain(llm = chat, prompt = chat_template, memory = chat_memory)"
   ]
  },
  {
   "cell_type": "code",
   "execution_count": 88,
   "id": "2f62f1bb-3619-4a2d-a968-812afbd2a79d",
   "metadata": {},
   "outputs": [
    {
     "name": "stdout",
     "output_type": "stream",
     "text": [
      "Oh, absolutely. Did you know that the average person spends six months of their life waiting for red lights to turn green? I'm sure that's a real game-changer for you. You'll probably start planning your life around traffic lights now.\n"
     ]
    }
   ],
   "source": [
    "response = chain.invoke({'question': \"Can you give me an interesting fact I probably dint know about?\"})\n",
    "print(response['text'])"
   ]
  },
  {
   "cell_type": "code",
   "execution_count": 89,
   "id": "a6262e36-71de-4953-bb6d-7d2c57a29762",
   "metadata": {},
   "outputs": [],
   "source": [
    "response = chain.invoke({ 'question': \"Can you elaborate a bit more on this fact?\"})"
   ]
  },
  {
   "cell_type": "code",
   "execution_count": 90,
   "id": "9587e130-fea6-4080-80a8-614dd760f8e2",
   "metadata": {},
   "outputs": [
    {
     "name": "stdout",
     "output_type": "stream",
     "text": [
      "Oh, sure, let me just pull out my traffic light encyclopedia. So, the average time you spend waiting at a red light is about 75 seconds, depending on the city and the time of day. Multiply that by how many lights you hit a day, then by how many days in your life you drive, and voila, you get six months. Fascinating, isn't it? I bet you're rethinking all your life choices now.\n"
     ]
    }
   ],
   "source": [
    "print(response['text'])"
   ]
  },
  {
   "cell_type": "code",
   "execution_count": 98,
   "id": "a5559527-6844-4539-8539-6a015b915c36",
   "metadata": {},
   "outputs": [
    {
     "name": "stdout",
     "output_type": "stream",
     "text": [
      "variable_name='message_log'\n"
     ]
    }
   ],
   "source": [
    "print(message_history)"
   ]
  },
  {
   "cell_type": "code",
   "execution_count": null,
   "id": "651ae583-3340-4bc2-a6e5-129c0d5a59ef",
   "metadata": {},
   "outputs": [],
   "source": []
  }
 ],
 "metadata": {
  "kernelspec": {
   "display_name": "langchain_env",
   "language": "python",
   "name": "langchain_env"
  },
  "language_info": {
   "codemirror_mode": {
    "name": "ipython",
    "version": 3
   },
   "file_extension": ".py",
   "mimetype": "text/x-python",
   "name": "python",
   "nbconvert_exporter": "python",
   "pygments_lexer": "ipython3",
   "version": "3.11.13"
  }
 },
 "nbformat": 4,
 "nbformat_minor": 5
}
